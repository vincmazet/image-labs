{
 "cells": [
  {
   "cell_type": "markdown",
   "id": "02f0f51c-7cca-4c3a-be4e-4b533dddcf61",
   "metadata": {},
   "source": [
    "# Foreword\n",
    "\n",
    "Here are compiled the lab assignments (problems and programming exercises)\n",
    "for the course \"[Basics of Image Processing](https://vincmazet.github.io/bip/)\"\n",
    "in the [master IRIV](https://www.master-iriv.fr/) program at the [University of Strasbourg](https://www.unistra.fr/).\n",
    "\n",
    "The programming exercises require Python which is free and used by many communities such as medicine, astronomy, and biology.\n",
    "To complete the exercises on your computer, you must install Python and Jupyter Lab,\n",
    "following the instructions provided on the page [](P:python).\n",
    "Additional course materials, including supplementary resources, are available on the dedicated Moodle page (access restricted to my students).\n",
    "\n",
    "After completing each exercise, you can refer to the correction below.\n",
    "Furthermore, do not hesitate to ask your colleagues and teachers for additional information\n",
    "or to discuss specific topics."
   ]
  },
  {
   "cell_type": "code",
   "execution_count": null,
   "id": "6f546f96-1c34-4993-bb05-4fdc9063ce91",
   "metadata": {},
   "outputs": [],
   "source": []
  }
 ],
 "metadata": {
  "kernelspec": {
   "display_name": "Python 3 (ipykernel)",
   "language": "python",
   "name": "python3"
  },
  "language_info": {
   "codemirror_mode": {
    "name": "ipython",
    "version": 3
   },
   "file_extension": ".py",
   "mimetype": "text/x-python",
   "name": "python",
   "nbconvert_exporter": "python",
   "pygments_lexer": "ipython3",
   "version": "3.9.7"
  }
 },
 "nbformat": 4,
 "nbformat_minor": 5
}
