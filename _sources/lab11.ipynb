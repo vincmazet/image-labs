{
 "cells": [
  {
   "cell_type": "markdown",
   "metadata": {},
   "source": [
    "(P:lab11)=\n",
    "# Getting started"
   ]
  },
  {
   "cell_type": "markdown",
   "metadata": {},
   "source": [
    "<!-- En gros, les étus sont arrivés jusqu'aux exos 4/5. Bien sûr, certains sont plus en retard et d'autres plus en avance. -->\n",
    "\n",
    "<!-- >> En TP (mais aussi parfois en cours) : demander d'afficher systématiquement la colorbar. Cela permet notamment d'éviter de travailler à la fois avec des images en int (0-255) et float (0-1). -->\n",
    "\n",
    "<!-- >> Profil 3D : utiliser une image plus simple (une somme de gaussienne par exemple) car le profil y est plus clair. -->\n",
    "\n",
    "<!-- >> Astuce : superposer des points ou une ligne sur une image (en prévision de Harris) (google/stackoverflow...) -->\n",
    "\n",
    "<!-- >> Astuce : comparer deux images (par ex : skimage.util.compare_images). Cf https://scikit-image.org/docs/dev/auto_examples/applications/plot_image_comparison.html#sphx-glr-auto-examples-applications-plot-image-comparison-py (google/stackoverflow...) -->\n",
    "\n",
    "<!-- >> 2022-2023 : En TP, demander une conclusion à la fin de chaque séance ou exo, dans le but de leur faire apprendre à synthétiser et de prendre du recul ? Entraîner les étus à la PC et la recherche reproductible : préciser le niveau de détails attendus. -->\n",
    "\n",
    "<!-- >> Rajouter, pour l'histogramme, quelle transformation est à faire pour passer de l'histo d'une image à un histo particulier ? (constant => égalisation, linéaire, autre...) -->\n",
    "\n",
    "<!-- Exo supplémentaire : affichage d'une image hyperspectrale.\n",
    "  L'image hyperspectrale Indian\\_pines.mat est de taille $145\\times145$ pixels et contient 220 bandes spectrales.\n",
    "  \\item Affichez la dixième bande de l'image.\n",
    "  \\item Créez une composition RVB de l'image et affichez-la.\n",
    "  Vous pouvez pour cela avoir besoin d'effectuer une moyenne (\\syntax{mean})\n",
    "  et de normaliser les bandes pour forcer leurs intensités à être entre 0 et 1.\n",
    "  \\item Affichez les spectres de quelques pixels, par exemple les pixels (34,106), (47,20) et (91,136).\n",
    "  Utilisez la fonction \\syntax{squeeze} qui permet d'éliminer les dimensions vide d'une matrice 3D.\n",
    "  L'image hyperspectrale Indian\\_pines.mat a été capturée en 1992 par le capteur Aviris\n",
    "  au dessus de champs dans l'Indiana, États-Unis.\n",
    "  C'est une image de $145\\times145$ pixels et 220 bandes spectrales réparties entre 400 et 2500 nm. -->\n",
    "  \n",
    "<!-- Exo supplémentaire : addition de plusieurs images pour constater que le bruit diminue -->\n",
    "\n",
    "<!-- Exo supplémentaire : représenter l'histogramme d'une image simple 4x4. -->\n",
    "\n",
    "<!-- Exo supplémentaire : influence du nb de bins -->\n",
    "\n",
    "[Python](https://www.python.org/) is a very versatile programming language and can especially be used for scientific programming and image processing.\n",
    "Python's syntax is very similar to Matlab's one.\n",
    "Before beginning this lab, you may need to read [](P:python).\n",
    "If you use your personal computer, beware of the [module version](python:writing-code).\n",
    "We will use [Jupyter Lab](https://jupyterlab.readthedocs.io/en/latest/index.html), which runs in a web browser, to write programs.\n",
    "These programs are saved as _notebooks_.\n",
    "\n",
    "\n",
    "* First, boot your computer on Ubuntu, then open a terminal by typing `terminal` in the main menu or typing `Ctrl` + `Alt` + `T`.\n",
    "\n",
    "* Start Jupyter by typing in a terminal:\n",
    "  ```\n",
    "  jupyter lab\n",
    "  ```\n",
    "  or\n",
    "  ```\n",
    "  jupyter-lab\n",
    "  ```\n",
    "\n",
    "* In Jupyter Lab, open a new Python 3 notebook and rename it from `File` > `Save Notebook As...`.\n",
    "  A notebook is a file with extension .ipynb.\n",
    "  \n",
    "Now you are ready to write a Python program in the notebook.\n",
    "\n",
    "* In the first cell of the notebook, write\n",
    "  ```\n",
    "  40 + 2\n",
    "  ```\n",
    "  and type `Shift` + `Return`.\n",
    "  The code is executed, the result is displayed then a new cell appears below.\n",
    "\n",
    "* Like any programming language, the code is written using _variables_ and _functions_.\n",
    "  A _variable_  stores one (or more) values, whether it is numeric or not.\n",
    "  The name of the variable can contain letters, numbers (except the first character) or underscore.\n",
    "  Case is important (_i.e._ `a` and `A` are two different variables).\n",
    "  Type the instructions below in the second cell:\n",
    "  ```\n",
    "  year = 2024\n",
    "  course = \"BIP\"\n",
    "  ```\n",
    "  and type again `Shift` + `Return`.\n",
    "  Now the value 2024 is stored in the variable `year`\n",
    "  and the character string \"BIP\" is stored in the variable `course`.\n",
    "\n",
    "* Modify the previous cell by adding the following statement:\n",
    "  ```\n",
    "  print(f\"{course} {year}\")\n",
    "  ```\n",
    "  `print` is a _function_ and the string in the brackets is an _argument_.\n",
    "  Here, this argument is a character string.\n",
    "  The `f` at the beginning of the string means that it is\n",
    "  a [formatted string](https://he-arc.github.io/livre-python/fstrings/index.html).\n",
    "  Type `Shift` + `Return` to run again the code.\n",
    "\n",
    "A notebook is appealing as it is also possible to add text using the [markdown language](https://en.wikipedia.org/wiki/Markdown).\n",
    "\n",
    "* Select an empty cell, then click on the drop-down list in the toolbar to select _Markdown_.\n",
    "  Then you can write formatted text.\n",
    "  Try to write:\n",
    "  \n",
    "  ::::{grid} 1\n",
    "  :gutter: 3\n",
    "  \n",
    "  :::{grid-item-card}\n",
    "  <html><h2 style=\"margin-top:0ex\">New exercise</h2></html>\n",
    "  \n",
    "  Write **bold**, _italic_ or equations: $\\sqrt{2}$.\n",
    "  \n",
    "  :::\n",
    "  ::::\n",
    "  \n",
    "  This can be useful for inserting titles or keeping comments and notes.\n",
    "  \n",
    "Verify your code in the correction below."
   ]
  },
  {
   "cell_type": "markdown",
   "metadata": {},
   "source": [
    "```{div} correction\n",
    "```\n",
    "## Correction"
   ]
  },
  {
   "cell_type": "markdown",
   "metadata": {
    "editable": true,
    "slideshow": {
     "slide_type": ""
    },
    "tags": [
     "remove-cell"
    ]
   },
   "source": [
    "<hr>\n",
    "\n",
    "## 📌 Commentaires pour les intervenants\n",
    "\n",
    "Ce premier TP se déroule bien en général. Certains étudiants non francophones et certains médecins peuvent avoir de grandes difficultés, mais sinon le niveau est plutôt homogène.\n",
    "\n",
    "Au démarrage de la séance, commencez par vous présentez puis embrayez ensuite sur le test :\n",
    "* test en version papier (précisez que les réponses aux examens peuvent être en français) ;\n",
    "* correction orale du test ;\n",
    "\n",
    "Ensuite, un mot d'introduction et rappelez l'organisation du TP :\n",
    "* boot sous Ubuntu (s'ils n'ont pas encore d'identifiant, utiliser :\n",
    "  login = **telecom**, mdp = **Tel2024!**) ;\n",
    "* expliquer, en utilisant le vidéoprojecteur, comment ouvrir et utiliser Jupyter Lab,\n",
    "  la notion de cellule et comment les exécuter, le markdown et son intérêt ;\n",
    "* précisez à ceux qui utiliseraient leurs PC perso de vérifier les versions des modules\n",
    "  (cf « Writing code » dans le chapitre « Installing and using Python »)\n",
    "  car cela peut conduire à des bugs ;\n",
    "* TP en effectuant les exercices les uns après les autres ;\n",
    "* correction disponible : aux étudiants de s'y référer.\n",
    "\n",
    "Bien sûr, vous restez disponibles pour répondre aux questions des étudiants, et vous pour ne pas vous embêter n'hésitez pas à leur poser des questions !\n",
    "\n",
    "Les années précédentes, les étudiants faisaient les 5 ou 6 premiers exercices.\n",
    "C'est bien s'ils vont plus loin, mais il est inutile de forcer le rythme :\n",
    "je préfère qu'ils aient bien assimilé les premières notions,\n",
    "plutôt qu'ils aient survolé toutes les notions.\n",
    "\n",
    "De manière générale, les étudiants connaissent mal Python, et pratiquement pas la notion de notebook Jupyter, de cellules, etc.\n",
    "Il faut donc bien les coacher sur le début, en vérifiant notamment :\n",
    "* que tout le code ne soit pas dans une unique cellule ;\n",
    "* que les imports de modules se font (à partir du 2e ou 3e exercice) tout au début du code ;\n",
    "* qu'ils prennent la bonne habitude d'insérer des cellules de markdown pour mettre un titre et des commentaires sur les résultats.\n",
    "\n",
    "Vous pouvez interrompre le TP en demandant l'attention pour faire un point oral (au vidéoprojecteur ou au tableau), par exemple :\n",
    "* l'ouverture et l'utilisation de Jupyter Lab,\n",
    "  la notion de cellule et comment les exécuter, le markdown et son intérêt (en début de séance) ;\n",
    "* l'extraction de pixels avec la commande `f[a:b,c:d]` (un petit schéma peut être intéressant).\n",
    "  C'est un point qui pose des difficultés à certains dans l'exercice « Create a simple image » ;\n",
    "\n",
    "Je passerai pendant la séance dans toutes les salles pour me présenter et voir comment ça se passe.\n",
    "\n",
    "<hr>"
   ]
  },
  {
   "cell_type": "markdown",
   "metadata": {},
   "source": [
    "### Objectives\n",
    "\n",
    "* discover and know how to write a Python program\n",
    "* discover and know how to use a notebook\n",
    "* write by using the markdown syntax\n",
    "* manipulate variables"
   ]
  },
  {
   "cell_type": "markdown",
   "metadata": {},
   "source": [
    "### Code cells\n",
    "\n",
    "The two cells containing codes should be:"
   ]
  },
  {
   "cell_type": "code",
   "execution_count": 1,
   "metadata": {},
   "outputs": [
    {
     "data": {
      "text/plain": [
       "42"
      ]
     },
     "execution_count": 1,
     "metadata": {},
     "output_type": "execute_result"
    }
   ],
   "source": [
    "40 + 2"
   ]
  },
  {
   "cell_type": "code",
   "execution_count": 2,
   "metadata": {},
   "outputs": [
    {
     "name": "stdout",
     "output_type": "stream",
     "text": [
      "BIP 2023\n"
     ]
    }
   ],
   "source": [
    "year = 2024\n",
    "course = \"BIP\"\n",
    "print(f\"{course} {year}\")"
   ]
  },
  {
   "cell_type": "markdown",
   "metadata": {},
   "source": [
    "### Markdown cell\n",
    "\n",
    "The markdown cell should be:\n",
    "\n",
    "```\n",
    "## New exercise\n",
    "\n",
    "Write **bold**, _italic_ or equations: $\\sqrt{2}$.\n",
    "```"
   ]
  },
  {
   "cell_type": "markdown",
   "metadata": {},
   "source": [
    "to get:\n",
    "\n",
    "::::{grid} 1\n",
    ":gutter: 3\n",
    "\n",
    ":::{grid-item-card}\n",
    "<html><h2 style=\"margin-top:0ex\">New exercise</h2></html>\n",
    "\n",
    "Write **bold**, _italic_ or equations: $\\sqrt{2}$.\n",
    "\n",
    ":::\n",
    "::::"
   ]
  }
 ],
 "metadata": {
  "kernelspec": {
   "display_name": "Python 3 (ipykernel)",
   "language": "python",
   "name": "python3"
  },
  "language_info": {
   "codemirror_mode": {
    "name": "ipython",
    "version": 3
   },
   "file_extension": ".py",
   "mimetype": "text/x-python",
   "name": "python",
   "nbconvert_exporter": "python",
   "pygments_lexer": "ipython3",
   "version": "3.9.7"
  }
 },
 "nbformat": 4,
 "nbformat_minor": 4
}
